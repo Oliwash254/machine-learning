{
  "cells": [
    {
      "cell_type": "markdown",
      "metadata": {
        "id": "view-in-github",
        "colab_type": "text"
      },
      "source": [
        "<a href=\"https://colab.research.google.com/github/Oliwash254/machine-learning/blob/main/documentation/public/docs/tutorial/to_docker.ipynb\" target=\"_parent\"><img src=\"https://colab.research.google.com/assets/colab-badge.svg\" alt=\"Open In Colab\"/></a>"
      ]
    },
    {
      "cell_type": "markdown",
      "id": "8be3dbea-be4e-420d-8b17-f83756838b73",
      "metadata": {
        "id": "8be3dbea-be4e-420d-8b17-f83756838b73"
      },
      "source": [
        "# FastAPI + Docker\n",
        "[![Open in Colab](https://colab.research.google.com/assets/colab-badge.svg)](https://colab.research.google.com/github/google/yggdrasil-decision-forests/blob/main/documentation/public/docs/tutorial/to_docker.ipynb)\n"
      ]
    },
    {
      "cell_type": "markdown",
      "id": "3a42e8ef-0bd2-4313-897c-8ae05764d69b",
      "metadata": {
        "id": "3a42e8ef-0bd2-4313-897c-8ae05764d69b"
      },
      "source": [
        "## Setup"
      ]
    },
    {
      "cell_type": "code",
      "execution_count": 1,
      "id": "c7c54d27-0da3-4023-840f-aa3ffc65793d",
      "metadata": {
        "id": "c7c54d27-0da3-4023-840f-aa3ffc65793d",
        "outputId": "bf15a72a-28a4-4777-b3cb-f22d8614f86f",
        "colab": {
          "base_uri": "https://localhost:8080/"
        }
      },
      "outputs": [
        {
          "output_type": "stream",
          "name": "stdout",
          "text": [
            "Requirement already satisfied: ydf in /usr/local/lib/python3.11/dist-packages (0.12.0)\n",
            "Requirement already satisfied: numpy in /usr/local/lib/python3.11/dist-packages (from ydf) (2.0.2)\n",
            "Requirement already satisfied: absl_py in /usr/local/lib/python3.11/dist-packages (from ydf) (1.4.0)\n",
            "Requirement already satisfied: protobuf<6.0.0,>=5.29.1 in /usr/local/lib/python3.11/dist-packages (from ydf) (5.29.5)\n"
          ]
        }
      ],
      "source": [
        "pip install ydf -U"
      ]
    },
    {
      "cell_type": "code",
      "execution_count": 2,
      "id": "b21c4723-d802-4260-9c1a-5c1e48898d08",
      "metadata": {
        "id": "b21c4723-d802-4260-9c1a-5c1e48898d08"
      },
      "outputs": [],
      "source": [
        "import ydf\n",
        "import pandas as pd"
      ]
    },
    {
      "cell_type": "markdown",
      "id": "9e1ce294-493d-4095-8f49-162145c74864",
      "metadata": {
        "id": "9e1ce294-493d-4095-8f49-162145c74864"
      },
      "source": [
        "## About this tutorial\n",
        "\n",
        "This tutorial shows how to train a model, package it into a Docker container with a REST API for predictions using [FastAPI](https://fastapi.tiangolo.com/), and then deploy this containerized application to a Google Cloud Endpoints for easy access and scalability."
      ]
    },
    {
      "cell_type": "markdown",
      "id": "bd103ae9-5d9d-4f4d-8cee-302ddfe5e9d0",
      "metadata": {
        "id": "bd103ae9-5d9d-4f4d-8cee-302ddfe5e9d0"
      },
      "source": [
        "## Training a model\n",
        "\n",
        "We first train a model using the \"adult\" dataset. For a comprehensive explanation of model training, evaluation, and interpretation with YDF, read the [getting started tutorial](getting_started).\n",
        "\n",
        "We load the dataset:"
      ]
    },
    {
      "cell_type": "code",
      "execution_count": 3,
      "id": "624539ba-777e-4524-a702-59ac84b1f36d",
      "metadata": {
        "id": "624539ba-777e-4524-a702-59ac84b1f36d",
        "outputId": "5f06a111-62b7-4d0e-b9d3-6c3e67ebe27d",
        "colab": {
          "base_uri": "https://localhost:8080/",
          "height": 313
        }
      },
      "outputs": [
        {
          "output_type": "execute_result",
          "data": {
            "text/plain": [
              "   age     workclass  fnlwgt     education  education_num      marital_status  \\\n",
              "0   44       Private  228057       7th-8th              4  Married-civ-spouse   \n",
              "1   20       Private  299047  Some-college             10       Never-married   \n",
              "2   40       Private  342164       HS-grad              9           Separated   \n",
              "3   30       Private  361742  Some-college             10  Married-civ-spouse   \n",
              "4   67  Self-emp-inc  171564       HS-grad              9  Married-civ-spouse   \n",
              "\n",
              "          occupation   relationship   race     sex  capital_gain  \\\n",
              "0  Machine-op-inspct           Wife  White  Female             0   \n",
              "1      Other-service  Not-in-family  White  Female             0   \n",
              "2       Adm-clerical      Unmarried  White  Female             0   \n",
              "3    Exec-managerial        Husband  White    Male             0   \n",
              "4     Prof-specialty           Wife  White  Female         20051   \n",
              "\n",
              "   capital_loss  hours_per_week      native_country income  \n",
              "0             0              40  Dominican-Republic  <=50K  \n",
              "1             0              20       United-States  <=50K  \n",
              "2             0              37       United-States  <=50K  \n",
              "3             0              50       United-States  <=50K  \n",
              "4             0              30             England   >50K  "
            ],
            "text/html": [
              "\n",
              "  <div id=\"df-6d018e81-08bb-4f31-a5d4-62b1f3501844\" class=\"colab-df-container\">\n",
              "    <div>\n",
              "<style scoped>\n",
              "    .dataframe tbody tr th:only-of-type {\n",
              "        vertical-align: middle;\n",
              "    }\n",
              "\n",
              "    .dataframe tbody tr th {\n",
              "        vertical-align: top;\n",
              "    }\n",
              "\n",
              "    .dataframe thead th {\n",
              "        text-align: right;\n",
              "    }\n",
              "</style>\n",
              "<table border=\"1\" class=\"dataframe\">\n",
              "  <thead>\n",
              "    <tr style=\"text-align: right;\">\n",
              "      <th></th>\n",
              "      <th>age</th>\n",
              "      <th>workclass</th>\n",
              "      <th>fnlwgt</th>\n",
              "      <th>education</th>\n",
              "      <th>education_num</th>\n",
              "      <th>marital_status</th>\n",
              "      <th>occupation</th>\n",
              "      <th>relationship</th>\n",
              "      <th>race</th>\n",
              "      <th>sex</th>\n",
              "      <th>capital_gain</th>\n",
              "      <th>capital_loss</th>\n",
              "      <th>hours_per_week</th>\n",
              "      <th>native_country</th>\n",
              "      <th>income</th>\n",
              "    </tr>\n",
              "  </thead>\n",
              "  <tbody>\n",
              "    <tr>\n",
              "      <th>0</th>\n",
              "      <td>44</td>\n",
              "      <td>Private</td>\n",
              "      <td>228057</td>\n",
              "      <td>7th-8th</td>\n",
              "      <td>4</td>\n",
              "      <td>Married-civ-spouse</td>\n",
              "      <td>Machine-op-inspct</td>\n",
              "      <td>Wife</td>\n",
              "      <td>White</td>\n",
              "      <td>Female</td>\n",
              "      <td>0</td>\n",
              "      <td>0</td>\n",
              "      <td>40</td>\n",
              "      <td>Dominican-Republic</td>\n",
              "      <td>&lt;=50K</td>\n",
              "    </tr>\n",
              "    <tr>\n",
              "      <th>1</th>\n",
              "      <td>20</td>\n",
              "      <td>Private</td>\n",
              "      <td>299047</td>\n",
              "      <td>Some-college</td>\n",
              "      <td>10</td>\n",
              "      <td>Never-married</td>\n",
              "      <td>Other-service</td>\n",
              "      <td>Not-in-family</td>\n",
              "      <td>White</td>\n",
              "      <td>Female</td>\n",
              "      <td>0</td>\n",
              "      <td>0</td>\n",
              "      <td>20</td>\n",
              "      <td>United-States</td>\n",
              "      <td>&lt;=50K</td>\n",
              "    </tr>\n",
              "    <tr>\n",
              "      <th>2</th>\n",
              "      <td>40</td>\n",
              "      <td>Private</td>\n",
              "      <td>342164</td>\n",
              "      <td>HS-grad</td>\n",
              "      <td>9</td>\n",
              "      <td>Separated</td>\n",
              "      <td>Adm-clerical</td>\n",
              "      <td>Unmarried</td>\n",
              "      <td>White</td>\n",
              "      <td>Female</td>\n",
              "      <td>0</td>\n",
              "      <td>0</td>\n",
              "      <td>37</td>\n",
              "      <td>United-States</td>\n",
              "      <td>&lt;=50K</td>\n",
              "    </tr>\n",
              "    <tr>\n",
              "      <th>3</th>\n",
              "      <td>30</td>\n",
              "      <td>Private</td>\n",
              "      <td>361742</td>\n",
              "      <td>Some-college</td>\n",
              "      <td>10</td>\n",
              "      <td>Married-civ-spouse</td>\n",
              "      <td>Exec-managerial</td>\n",
              "      <td>Husband</td>\n",
              "      <td>White</td>\n",
              "      <td>Male</td>\n",
              "      <td>0</td>\n",
              "      <td>0</td>\n",
              "      <td>50</td>\n",
              "      <td>United-States</td>\n",
              "      <td>&lt;=50K</td>\n",
              "    </tr>\n",
              "    <tr>\n",
              "      <th>4</th>\n",
              "      <td>67</td>\n",
              "      <td>Self-emp-inc</td>\n",
              "      <td>171564</td>\n",
              "      <td>HS-grad</td>\n",
              "      <td>9</td>\n",
              "      <td>Married-civ-spouse</td>\n",
              "      <td>Prof-specialty</td>\n",
              "      <td>Wife</td>\n",
              "      <td>White</td>\n",
              "      <td>Female</td>\n",
              "      <td>20051</td>\n",
              "      <td>0</td>\n",
              "      <td>30</td>\n",
              "      <td>England</td>\n",
              "      <td>&gt;50K</td>\n",
              "    </tr>\n",
              "  </tbody>\n",
              "</table>\n",
              "</div>\n",
              "    <div class=\"colab-df-buttons\">\n",
              "\n",
              "  <div class=\"colab-df-container\">\n",
              "    <button class=\"colab-df-convert\" onclick=\"convertToInteractive('df-6d018e81-08bb-4f31-a5d4-62b1f3501844')\"\n",
              "            title=\"Convert this dataframe to an interactive table.\"\n",
              "            style=\"display:none;\">\n",
              "\n",
              "  <svg xmlns=\"http://www.w3.org/2000/svg\" height=\"24px\" viewBox=\"0 -960 960 960\">\n",
              "    <path d=\"M120-120v-720h720v720H120Zm60-500h600v-160H180v160Zm220 220h160v-160H400v160Zm0 220h160v-160H400v160ZM180-400h160v-160H180v160Zm440 0h160v-160H620v160ZM180-180h160v-160H180v160Zm440 0h160v-160H620v160Z\"/>\n",
              "  </svg>\n",
              "    </button>\n",
              "\n",
              "  <style>\n",
              "    .colab-df-container {\n",
              "      display:flex;\n",
              "      gap: 12px;\n",
              "    }\n",
              "\n",
              "    .colab-df-convert {\n",
              "      background-color: #E8F0FE;\n",
              "      border: none;\n",
              "      border-radius: 50%;\n",
              "      cursor: pointer;\n",
              "      display: none;\n",
              "      fill: #1967D2;\n",
              "      height: 32px;\n",
              "      padding: 0 0 0 0;\n",
              "      width: 32px;\n",
              "    }\n",
              "\n",
              "    .colab-df-convert:hover {\n",
              "      background-color: #E2EBFA;\n",
              "      box-shadow: 0px 1px 2px rgba(60, 64, 67, 0.3), 0px 1px 3px 1px rgba(60, 64, 67, 0.15);\n",
              "      fill: #174EA6;\n",
              "    }\n",
              "\n",
              "    .colab-df-buttons div {\n",
              "      margin-bottom: 4px;\n",
              "    }\n",
              "\n",
              "    [theme=dark] .colab-df-convert {\n",
              "      background-color: #3B4455;\n",
              "      fill: #D2E3FC;\n",
              "    }\n",
              "\n",
              "    [theme=dark] .colab-df-convert:hover {\n",
              "      background-color: #434B5C;\n",
              "      box-shadow: 0px 1px 3px 1px rgba(0, 0, 0, 0.15);\n",
              "      filter: drop-shadow(0px 1px 2px rgba(0, 0, 0, 0.3));\n",
              "      fill: #FFFFFF;\n",
              "    }\n",
              "  </style>\n",
              "\n",
              "    <script>\n",
              "      const buttonEl =\n",
              "        document.querySelector('#df-6d018e81-08bb-4f31-a5d4-62b1f3501844 button.colab-df-convert');\n",
              "      buttonEl.style.display =\n",
              "        google.colab.kernel.accessAllowed ? 'block' : 'none';\n",
              "\n",
              "      async function convertToInteractive(key) {\n",
              "        const element = document.querySelector('#df-6d018e81-08bb-4f31-a5d4-62b1f3501844');\n",
              "        const dataTable =\n",
              "          await google.colab.kernel.invokeFunction('convertToInteractive',\n",
              "                                                    [key], {});\n",
              "        if (!dataTable) return;\n",
              "\n",
              "        const docLinkHtml = 'Like what you see? Visit the ' +\n",
              "          '<a target=\"_blank\" href=https://colab.research.google.com/notebooks/data_table.ipynb>data table notebook</a>'\n",
              "          + ' to learn more about interactive tables.';\n",
              "        element.innerHTML = '';\n",
              "        dataTable['output_type'] = 'display_data';\n",
              "        await google.colab.output.renderOutput(dataTable, element);\n",
              "        const docLink = document.createElement('div');\n",
              "        docLink.innerHTML = docLinkHtml;\n",
              "        element.appendChild(docLink);\n",
              "      }\n",
              "    </script>\n",
              "  </div>\n",
              "\n",
              "\n",
              "    <div id=\"df-cc81a680-e107-4af3-8846-4913232e849e\">\n",
              "      <button class=\"colab-df-quickchart\" onclick=\"quickchart('df-cc81a680-e107-4af3-8846-4913232e849e')\"\n",
              "                title=\"Suggest charts\"\n",
              "                style=\"display:none;\">\n",
              "\n",
              "<svg xmlns=\"http://www.w3.org/2000/svg\" height=\"24px\"viewBox=\"0 0 24 24\"\n",
              "     width=\"24px\">\n",
              "    <g>\n",
              "        <path d=\"M19 3H5c-1.1 0-2 .9-2 2v14c0 1.1.9 2 2 2h14c1.1 0 2-.9 2-2V5c0-1.1-.9-2-2-2zM9 17H7v-7h2v7zm4 0h-2V7h2v10zm4 0h-2v-4h2v4z\"/>\n",
              "    </g>\n",
              "</svg>\n",
              "      </button>\n",
              "\n",
              "<style>\n",
              "  .colab-df-quickchart {\n",
              "      --bg-color: #E8F0FE;\n",
              "      --fill-color: #1967D2;\n",
              "      --hover-bg-color: #E2EBFA;\n",
              "      --hover-fill-color: #174EA6;\n",
              "      --disabled-fill-color: #AAA;\n",
              "      --disabled-bg-color: #DDD;\n",
              "  }\n",
              "\n",
              "  [theme=dark] .colab-df-quickchart {\n",
              "      --bg-color: #3B4455;\n",
              "      --fill-color: #D2E3FC;\n",
              "      --hover-bg-color: #434B5C;\n",
              "      --hover-fill-color: #FFFFFF;\n",
              "      --disabled-bg-color: #3B4455;\n",
              "      --disabled-fill-color: #666;\n",
              "  }\n",
              "\n",
              "  .colab-df-quickchart {\n",
              "    background-color: var(--bg-color);\n",
              "    border: none;\n",
              "    border-radius: 50%;\n",
              "    cursor: pointer;\n",
              "    display: none;\n",
              "    fill: var(--fill-color);\n",
              "    height: 32px;\n",
              "    padding: 0;\n",
              "    width: 32px;\n",
              "  }\n",
              "\n",
              "  .colab-df-quickchart:hover {\n",
              "    background-color: var(--hover-bg-color);\n",
              "    box-shadow: 0 1px 2px rgba(60, 64, 67, 0.3), 0 1px 3px 1px rgba(60, 64, 67, 0.15);\n",
              "    fill: var(--button-hover-fill-color);\n",
              "  }\n",
              "\n",
              "  .colab-df-quickchart-complete:disabled,\n",
              "  .colab-df-quickchart-complete:disabled:hover {\n",
              "    background-color: var(--disabled-bg-color);\n",
              "    fill: var(--disabled-fill-color);\n",
              "    box-shadow: none;\n",
              "  }\n",
              "\n",
              "  .colab-df-spinner {\n",
              "    border: 2px solid var(--fill-color);\n",
              "    border-color: transparent;\n",
              "    border-bottom-color: var(--fill-color);\n",
              "    animation:\n",
              "      spin 1s steps(1) infinite;\n",
              "  }\n",
              "\n",
              "  @keyframes spin {\n",
              "    0% {\n",
              "      border-color: transparent;\n",
              "      border-bottom-color: var(--fill-color);\n",
              "      border-left-color: var(--fill-color);\n",
              "    }\n",
              "    20% {\n",
              "      border-color: transparent;\n",
              "      border-left-color: var(--fill-color);\n",
              "      border-top-color: var(--fill-color);\n",
              "    }\n",
              "    30% {\n",
              "      border-color: transparent;\n",
              "      border-left-color: var(--fill-color);\n",
              "      border-top-color: var(--fill-color);\n",
              "      border-right-color: var(--fill-color);\n",
              "    }\n",
              "    40% {\n",
              "      border-color: transparent;\n",
              "      border-right-color: var(--fill-color);\n",
              "      border-top-color: var(--fill-color);\n",
              "    }\n",
              "    60% {\n",
              "      border-color: transparent;\n",
              "      border-right-color: var(--fill-color);\n",
              "    }\n",
              "    80% {\n",
              "      border-color: transparent;\n",
              "      border-right-color: var(--fill-color);\n",
              "      border-bottom-color: var(--fill-color);\n",
              "    }\n",
              "    90% {\n",
              "      border-color: transparent;\n",
              "      border-bottom-color: var(--fill-color);\n",
              "    }\n",
              "  }\n",
              "</style>\n",
              "\n",
              "      <script>\n",
              "        async function quickchart(key) {\n",
              "          const quickchartButtonEl =\n",
              "            document.querySelector('#' + key + ' button');\n",
              "          quickchartButtonEl.disabled = true;  // To prevent multiple clicks.\n",
              "          quickchartButtonEl.classList.add('colab-df-spinner');\n",
              "          try {\n",
              "            const charts = await google.colab.kernel.invokeFunction(\n",
              "                'suggestCharts', [key], {});\n",
              "          } catch (error) {\n",
              "            console.error('Error during call to suggestCharts:', error);\n",
              "          }\n",
              "          quickchartButtonEl.classList.remove('colab-df-spinner');\n",
              "          quickchartButtonEl.classList.add('colab-df-quickchart-complete');\n",
              "        }\n",
              "        (() => {\n",
              "          let quickchartButtonEl =\n",
              "            document.querySelector('#df-cc81a680-e107-4af3-8846-4913232e849e button');\n",
              "          quickchartButtonEl.style.display =\n",
              "            google.colab.kernel.accessAllowed ? 'block' : 'none';\n",
              "        })();\n",
              "      </script>\n",
              "    </div>\n",
              "\n",
              "    </div>\n",
              "  </div>\n"
            ],
            "application/vnd.google.colaboratory.intrinsic+json": {
              "type": "dataframe",
              "variable_name": "dataset",
              "summary": "{\n  \"name\": \"dataset\",\n  \"rows\": 22792,\n  \"fields\": [\n    {\n      \"column\": \"age\",\n      \"properties\": {\n        \"dtype\": \"number\",\n        \"std\": 13,\n        \"min\": 17,\n        \"max\": 90,\n        \"num_unique_values\": 73,\n        \"samples\": [\n          67,\n          79,\n          26\n        ],\n        \"semantic_type\": \"\",\n        \"description\": \"\"\n      }\n    },\n    {\n      \"column\": \"workclass\",\n      \"properties\": {\n        \"dtype\": \"category\",\n        \"num_unique_values\": 8,\n        \"samples\": [\n          \"Self-emp-inc\",\n          \"State-gov\",\n          \"Private\"\n        ],\n        \"semantic_type\": \"\",\n        \"description\": \"\"\n      }\n    },\n    {\n      \"column\": \"fnlwgt\",\n      \"properties\": {\n        \"dtype\": \"number\",\n        \"std\": 106425,\n        \"min\": 12285,\n        \"max\": 1484705,\n        \"num_unique_values\": 16610,\n        \"samples\": [\n          220109,\n          184307,\n          33521\n        ],\n        \"semantic_type\": \"\",\n        \"description\": \"\"\n      }\n    },\n    {\n      \"column\": \"education\",\n      \"properties\": {\n        \"dtype\": \"category\",\n        \"num_unique_values\": 16,\n        \"samples\": [\n          \"7th-8th\",\n          \"Some-college\",\n          \"Masters\"\n        ],\n        \"semantic_type\": \"\",\n        \"description\": \"\"\n      }\n    },\n    {\n      \"column\": \"education_num\",\n      \"properties\": {\n        \"dtype\": \"number\",\n        \"std\": 2,\n        \"min\": 1,\n        \"max\": 16,\n        \"num_unique_values\": 16,\n        \"samples\": [\n          4,\n          10,\n          14\n        ],\n        \"semantic_type\": \"\",\n        \"description\": \"\"\n      }\n    },\n    {\n      \"column\": \"marital_status\",\n      \"properties\": {\n        \"dtype\": \"category\",\n        \"num_unique_values\": 7,\n        \"samples\": [\n          \"Married-civ-spouse\",\n          \"Never-married\",\n          \"Married-AF-spouse\"\n        ],\n        \"semantic_type\": \"\",\n        \"description\": \"\"\n      }\n    },\n    {\n      \"column\": \"occupation\",\n      \"properties\": {\n        \"dtype\": \"category\",\n        \"num_unique_values\": 14,\n        \"samples\": [\n          \"Farming-fishing\",\n          \"Protective-serv\",\n          \"Machine-op-inspct\"\n        ],\n        \"semantic_type\": \"\",\n        \"description\": \"\"\n      }\n    },\n    {\n      \"column\": \"relationship\",\n      \"properties\": {\n        \"dtype\": \"category\",\n        \"num_unique_values\": 6,\n        \"samples\": [\n          \"Wife\",\n          \"Not-in-family\",\n          \"Other-relative\"\n        ],\n        \"semantic_type\": \"\",\n        \"description\": \"\"\n      }\n    },\n    {\n      \"column\": \"race\",\n      \"properties\": {\n        \"dtype\": \"category\",\n        \"num_unique_values\": 5,\n        \"samples\": [\n          \"Black\",\n          \"Amer-Indian-Eskimo\",\n          \"Asian-Pac-Islander\"\n        ],\n        \"semantic_type\": \"\",\n        \"description\": \"\"\n      }\n    },\n    {\n      \"column\": \"sex\",\n      \"properties\": {\n        \"dtype\": \"category\",\n        \"num_unique_values\": 2,\n        \"samples\": [\n          \"Male\",\n          \"Female\"\n        ],\n        \"semantic_type\": \"\",\n        \"description\": \"\"\n      }\n    },\n    {\n      \"column\": \"capital_gain\",\n      \"properties\": {\n        \"dtype\": \"number\",\n        \"std\": 7509,\n        \"min\": 0,\n        \"max\": 99999,\n        \"num_unique_values\": 116,\n        \"samples\": [\n          7443,\n          14084\n        ],\n        \"semantic_type\": \"\",\n        \"description\": \"\"\n      }\n    },\n    {\n      \"column\": \"capital_loss\",\n      \"properties\": {\n        \"dtype\": \"number\",\n        \"std\": 403,\n        \"min\": 0,\n        \"max\": 4356,\n        \"num_unique_values\": 85,\n        \"samples\": [\n          2603,\n          0\n        ],\n        \"semantic_type\": \"\",\n        \"description\": \"\"\n      }\n    },\n    {\n      \"column\": \"hours_per_week\",\n      \"properties\": {\n        \"dtype\": \"number\",\n        \"std\": 12,\n        \"min\": 1,\n        \"max\": 99,\n        \"num_unique_values\": 93,\n        \"samples\": [\n          43,\n          32\n        ],\n        \"semantic_type\": \"\",\n        \"description\": \"\"\n      }\n    },\n    {\n      \"column\": \"native_country\",\n      \"properties\": {\n        \"dtype\": \"category\",\n        \"num_unique_values\": 41,\n        \"samples\": [\n          \"Ireland\",\n          \"El-Salvador\"\n        ],\n        \"semantic_type\": \"\",\n        \"description\": \"\"\n      }\n    },\n    {\n      \"column\": \"income\",\n      \"properties\": {\n        \"dtype\": \"category\",\n        \"num_unique_values\": 2,\n        \"samples\": [\n          \">50K\",\n          \"<=50K\"\n        ],\n        \"semantic_type\": \"\",\n        \"description\": \"\"\n      }\n    }\n  ]\n}"
            }
          },
          "metadata": {},
          "execution_count": 3
        }
      ],
      "source": [
        "dataset_path = \"https://raw.githubusercontent.com/google/yggdrasil-decision-forests/main/yggdrasil_decision_forests/test_data/dataset\"\n",
        "dataset = pd.read_csv(f\"{dataset_path}/adult_train.csv\")\n",
        "dataset.head(5)"
      ]
    },
    {
      "cell_type": "markdown",
      "id": "30b89d0c-43c0-402b-af1d-f722a30fedfe",
      "metadata": {
        "id": "30b89d0c-43c0-402b-af1d-f722a30fedfe"
      },
      "source": [
        "We train a model with default parameters:"
      ]
    },
    {
      "cell_type": "code",
      "execution_count": null,
      "id": "a2594497-5b8c-4a4b-ac6b-7b3f315ccb5c",
      "metadata": {
        "id": "a2594497-5b8c-4a4b-ac6b-7b3f315ccb5c",
        "outputId": "b3cb3e30-d5d7-4ccb-d103-7a49c45f4d2a"
      },
      "outputs": [
        {
          "name": "stdout",
          "output_type": "stream",
          "text": [
            "Train model on 22792 examples\n",
            "Model trained in 0:00:01.420861\n"
          ]
        }
      ],
      "source": [
        "model =  ydf.GradientBoostedTreesLearner(label=\"income\").train(dataset)"
      ]
    },
    {
      "cell_type": "markdown",
      "id": "6295ee9b-9a26-4cff-99ea-ef978ea91df6",
      "metadata": {
        "id": "6295ee9b-9a26-4cff-99ea-ef978ea91df6"
      },
      "source": [
        "We can generate predictions to make sure the model works:\n",
        "\n",
        "Note that `model.predict` takes as input a batch of examples (i.e., a list of examples). If we only have one example, we need to create a list of one value for each of the features."
      ]
    },
    {
      "cell_type": "code",
      "execution_count": null,
      "id": "26a0c25d-a547-4fd1-b772-35c6ec142c75",
      "metadata": {
        "id": "26a0c25d-a547-4fd1-b772-35c6ec142c75",
        "outputId": "70b040ea-20c9-4cf6-c1fd-4597f5bb3473"
      },
      "outputs": [
        {
          "data": {
            "text/plain": [
              "array([0.02801839], dtype=float32)"
            ]
          },
          "execution_count": 4,
          "metadata": {},
          "output_type": "execute_result"
        }
      ],
      "source": [
        "model.predict({'age': [44],\n",
        " 'workclass': ['Private'],\n",
        " 'fnlwgt': [228057],\n",
        " 'education': ['7th-8th'],\n",
        " 'education_num': [4],\n",
        " 'marital_status': ['Married-civ-spouse'],\n",
        " 'occupation': ['Machine-op-inspct'],\n",
        " 'relationship': ['Wife'],\n",
        " 'race': ['White'],\n",
        " 'sex': ['Female'],\n",
        " 'capital_gain': [0],\n",
        " 'capital_loss': [0],\n",
        " 'hours_per_week': [40],\n",
        " 'native_country': ['Dominican-Republic']})"
      ]
    },
    {
      "cell_type": "markdown",
      "id": "4e82b07d-6fb7-49ca-9f34-5e29392d5948",
      "metadata": {
        "id": "4e82b07d-6fb7-49ca-9f34-5e29392d5948"
      },
      "source": [
        "For a binary classification model (i.e., a model that can predict one of two classes), the output is the probability of the positive class:"
      ]
    },
    {
      "cell_type": "code",
      "execution_count": null,
      "id": "8e448a3e-246a-4d25-a681-7f1ac0e05f18",
      "metadata": {
        "id": "8e448a3e-246a-4d25-a681-7f1ac0e05f18",
        "outputId": "09c776c6-a4c3-445a-ba6e-fdc55ebeea30"
      },
      "outputs": [
        {
          "data": {
            "text/plain": [
              "'>50K'"
            ]
          },
          "execution_count": 5,
          "metadata": {},
          "output_type": "execute_result"
        }
      ],
      "source": [
        "model.label_classes()[True]"
      ]
    },
    {
      "cell_type": "markdown",
      "id": "758338cf-1a98-4921-ac9f-99ebeae45076",
      "metadata": {
        "id": "758338cf-1a98-4921-ac9f-99ebeae45076"
      },
      "source": [
        "## Packaging the model into a Docker\n",
        "\n",
        "`model.to_docker(path)` export the model into a Docker."
      ]
    },
    {
      "cell_type": "code",
      "execution_count": null,
      "id": "0b971d1d-422a-4db8-93cd-538467a8fc9a",
      "metadata": {
        "id": "0b971d1d-422a-4db8-93cd-538467a8fc9a"
      },
      "outputs": [],
      "source": [
        "model.to_docker(\"my_docker_model\")"
      ]
    },
    {
      "cell_type": "markdown",
      "id": "8ac417cf-05a1-476f-839d-7e2fec4e5f40",
      "metadata": {
        "id": "8ac417cf-05a1-476f-839d-7e2fec4e5f40"
      },
      "source": [
        "You can look at the Docker content. In some advanced case, you might want to update some of the automatically generated files."
      ]
    },
    {
      "cell_type": "code",
      "execution_count": null,
      "id": "3cfa10e7-9c62-4618-beb5-81c68b8b7216",
      "metadata": {
        "id": "3cfa10e7-9c62-4618-beb5-81c68b8b7216",
        "outputId": "dc375867-5a07-44df-9f94-6d43cb2041fb"
      },
      "outputs": [
        {
          "name": "stdout",
          "output_type": "stream",
          "text": [
            "total 4\n",
            "-rw-rw-r-- 1 gbm primarygroup  288 Jul 26 13:39 deploy_in_google_cloud.sh\n",
            "-rw-rw-r-- 1 gbm primarygroup  211 Jul 26 13:39 Dockerfile\n",
            "-rw-rw-r-- 1 gbm primarygroup 1313 Jul 26 13:39 main.py\n",
            "drwxrwxr-x 1 gbm primarygroup    0 Jul 26 13:39 model\n",
            "-rw-rw-r-- 1 gbm primarygroup  360 Jul 26 13:39 readme.txt\n",
            "-rw-rw-r-- 1 gbm primarygroup   21 Jul 26 13:39 requirements.txt\n",
            "-rw-rw-r-- 1 gbm primarygroup  485 Jul 26 13:39 test_locally.sh\n"
          ]
        }
      ],
      "source": [
        "!ls -l my_docker_model"
      ]
    },
    {
      "cell_type": "markdown",
      "id": "5598333b-ac91-460f-be5c-763c617fb72c",
      "metadata": {
        "id": "5598333b-ac91-460f-be5c-763c617fb72c"
      },
      "source": [
        "The docker can be deployed and tested locally with:\n",
        "\n",
        "```shell\n",
        "docker build -t ydf_predict_image ./my_docker_model\n",
        "docker run --rm -p 8080:8080 -d ydf_predict_image\n",
        "```\n",
        "\n",
        "**Note:** For this command to run, you'll need to install [Docker](https://www.docker.com/).\n",
        "\n",
        "The `test_locally.sh` script available in the generated docker directory shows how to generate a local request.\n",
        "\n",
        "Finally, the docker can be deployed on Google Cloud with:\n",
        "\n",
        "```shell\n",
        "gcloud run deploy ydf-predict --source ./my_docker_model\n",
        "```\n",
        "\n",
        "The deployed model can be monitored with the [Google Cloud Console](https://pantheon.corp.google.com/run).\n",
        "\n",
        "**Note:** For this command to run, you'll need to install [Google Cloud CLI](https://cloud.google.com/cli) and setup a project.\n"
      ]
    }
  ],
  "metadata": {
    "kernelspec": {
      "display_name": "Python 3 (ipykernel)",
      "language": "python",
      "name": "python3"
    },
    "language_info": {
      "codemirror_mode": {
        "name": "ipython",
        "version": 3
      },
      "file_extension": ".py",
      "mimetype": "text/x-python",
      "name": "python",
      "nbconvert_exporter": "python",
      "pygments_lexer": "ipython3",
      "version": "3.11.9"
    },
    "colab": {
      "provenance": [],
      "include_colab_link": true
    }
  },
  "nbformat": 4,
  "nbformat_minor": 5
}