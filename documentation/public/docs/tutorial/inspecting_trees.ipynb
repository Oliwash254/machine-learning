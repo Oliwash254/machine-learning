{
  "cells": [
    {
      "cell_type": "markdown",
      "metadata": {
        "id": "view-in-github",
        "colab_type": "text"
      },
      "source": [
        "<a href=\"https://colab.research.google.com/github/Oliwash254/machine-learning/blob/main/documentation/public/docs/tutorial/inspecting_trees.ipynb\" target=\"_parent\"><img src=\"https://colab.research.google.com/assets/colab-badge.svg\" alt=\"Open In Colab\"/></a>"
      ]
    },
    {
      "cell_type": "markdown",
      "metadata": {
        "id": "fuyGFpq66fpe"
      },
      "source": [
        "# Inspecting trees\n",
        "[![Open in Colab](https://colab.research.google.com/assets/colab-badge.svg)](https://colab.research.google.com/github/google/yggdrasil-decision-forests/blob/main/documentation/public/docs/tutorial/inspecting_trees.ipynb)\n"
      ]
    },
    {
      "cell_type": "markdown",
      "metadata": {
        "id": "lW8b11HQ6fps"
      },
      "source": [
        "## Setup"
      ]
    },
    {
      "cell_type": "code",
      "execution_count": null,
      "metadata": {
        "vscode": {
          "languageId": "plaintext"
        },
        "id": "0_AIQs096fpu"
      },
      "outputs": [],
      "source": [
        "pip install ydf -U"
      ]
    },
    {
      "cell_type": "code",
      "execution_count": null,
      "metadata": {
        "id": "5xZGnDqj6fp0"
      },
      "outputs": [],
      "source": [
        "import ydf\n",
        "import numpy as np"
      ]
    },
    {
      "cell_type": "markdown",
      "metadata": {
        "id": "ebSSaMAA6fp2"
      },
      "source": [
        "## What does it mean to inspect trees?\n",
        "\n",
        "A decision forest model, such as Random Forest or Gradient Boosted Decision Trees, is a collection of decision trees. A decision tree has \"internal nodes\" (i.e. nodes with child nodes) and \"leaf nodes\". Using the `get_tree` and `print_tree` methods, you can inspect the structure of the trees, the conditions and the leaf values.\n",
        "\n",
        "In this notebook, we train a simple CART model on a synthetic dataset and inspect its tree structure.\n",
        "\n",
        "\n",
        "## Synthetic dataset\n",
        "\n",
        "Our dataset is composed of two input features and six examples."
      ]
    },
    {
      "cell_type": "code",
      "execution_count": null,
      "metadata": {
        "id": "vO_1k03z6fp3"
      },
      "outputs": [],
      "source": [
        "dataset = {\n",
        "    \"x1\": np.array([0, 0, 0, 1, 1, 1]),\n",
        "    \"x2\": np.array([1, 1, 0, 0, 1, 1]),\n",
        "    \"y\": np.array([0, 0, 0, 0, 1, 1]),\n",
        "}\n",
        "\n",
        "dataset"
      ]
    },
    {
      "cell_type": "markdown",
      "metadata": {
        "id": "e_1k8LPp6fp4"
      },
      "source": [
        "## Training a model"
      ]
    },
    {
      "cell_type": "code",
      "execution_count": null,
      "metadata": {
        "id": "8Lr5ebmB6fp6"
      },
      "outputs": [],
      "source": [
        "model = ydf.CartLearner(label=\"y\", min_examples=1, task=ydf.Task.REGRESSION).train(dataset)\n",
        "\n",
        "model.describe()"
      ]
    },
    {
      "cell_type": "markdown",
      "metadata": {
        "id": "svfXNFO56fp7"
      },
      "source": [
        "## Plotting the model\n",
        "\n",
        "The tree of the model is visible in the \"structure\" tab of `model.describe()`. You can also print trees with the `print_tree` method."
      ]
    },
    {
      "cell_type": "code",
      "execution_count": null,
      "metadata": {
        "id": "ulgqnGwq6fp8"
      },
      "outputs": [],
      "source": [
        "model.print_tree()"
      ]
    },
    {
      "cell_type": "markdown",
      "metadata": {
        "id": "c74ODOwU6fp-"
      },
      "source": [
        "## Accessing the tree structure\n",
        "\n",
        "The `get_tree` and `get_all_trees` methods give access the structure of the trees programmatically.\n",
        "\n",
        "**Note:** A CART model only has one tree, so the `tree_idx` argument is set to `0`. For models with multiple trees, the number of trees is available with `model.num_trees()`."
      ]
    },
    {
      "cell_type": "code",
      "execution_count": null,
      "metadata": {
        "id": "dmttcsyv6fp-"
      },
      "outputs": [],
      "source": [
        "tree = model.get_tree(tree_idx=0)\n",
        "\n",
        "tree"
      ]
    },
    {
      "cell_type": "markdown",
      "metadata": {
        "id": "VMaV-Cv_6fp_"
      },
      "source": [
        "Do you recognize the structure of the tree printed above? You can access parts of the tree. For example, you can access the condition on `x2`:"
      ]
    },
    {
      "cell_type": "code",
      "execution_count": null,
      "metadata": {
        "id": "TzfbknDI6fqA"
      },
      "outputs": [],
      "source": [
        "tree.root.pos_child.condition"
      ]
    },
    {
      "cell_type": "markdown",
      "metadata": {
        "id": "_EeaQtDP6fqA"
      },
      "source": [
        "To show the tree in a more readable form, you can use  the `pretty` function."
      ]
    },
    {
      "cell_type": "code",
      "execution_count": null,
      "metadata": {
        "id": "DvMn3l0g6fqB"
      },
      "outputs": [],
      "source": [
        "print(tree.pretty(model.data_spec()))"
      ]
    }
  ],
  "metadata": {
    "colab": {
      "private_outputs": true,
      "provenance": [],
      "include_colab_link": true
    },
    "kernelspec": {
      "display_name": "Python 3 (ipykernel)",
      "language": "python",
      "name": "python3"
    },
    "language_info": {
      "codemirror_mode": {
        "name": "ipython",
        "version": 3
      },
      "file_extension": ".py",
      "mimetype": "text/x-python",
      "name": "python",
      "nbconvert_exporter": "python",
      "pygments_lexer": "ipython3",
      "version": "3.11.5"
    }
  },
  "nbformat": 4,
  "nbformat_minor": 0
}