{
  "cells": [
    {
      "cell_type": "markdown",
      "metadata": {
        "id": "view-in-github",
        "colab_type": "text"
      },
      "source": [
        "<a href=\"https://colab.research.google.com/github/Oliwash254/machine-learning/blob/main/%E2%9A%BD_ODD_%26_EVEN_BETTING_STRATEGY.ipynb\" target=\"_parent\"><img src=\"https://colab.research.google.com/assets/colab-badge.svg\" alt=\"Open In Colab\"/></a>"
      ]
    },
    {
      "source": [
        "# IMPORTANT: RUN THIS CELL IN ORDER TO IMPORT YOUR KAGGLE DATA SOURCES,\n",
        "# THEN FEEL FREE TO DELETE THIS CELL.\n",
        "# NOTE: THIS NOTEBOOK ENVIRONMENT DIFFERS FROM KAGGLE'S PYTHON\n",
        "# ENVIRONMENT SO THERE MAY BE MISSING LIBRARIES USED BY YOUR\n",
        "# NOTEBOOK.\n",
        "import kagglehub\n",
        "hugomathien_soccer_path = kagglehub.dataset_download('hugomathien/soccer')\n",
        "\n",
        "print('Data source import complete.')\n"
      ],
      "metadata": {
        "colab": {
          "base_uri": "https://localhost:8080/"
        },
        "id": "0tLIzElS22g_",
        "outputId": "cfaefe87-e2de-48d8-8326-b4dce4102021"
      },
      "cell_type": "code",
      "outputs": [
        {
          "output_type": "stream",
          "name": "stdout",
          "text": [
            "Downloading from https://www.kaggle.com/api/v1/datasets/download/hugomathien/soccer?dataset_version_number=10...\n"
          ]
        },
        {
          "output_type": "stream",
          "name": "stderr",
          "text": [
            "100%|██████████| 32.7M/32.7M [00:00<00:00, 43.6MB/s]"
          ]
        },
        {
          "output_type": "stream",
          "name": "stdout",
          "text": [
            "Extracting files...\n"
          ]
        },
        {
          "output_type": "stream",
          "name": "stderr",
          "text": [
            "\n"
          ]
        },
        {
          "output_type": "stream",
          "name": "stdout",
          "text": [
            "Data source import complete.\n"
          ]
        }
      ],
      "execution_count": 2
    },
    {
      "metadata": {
        "id": "qtH4DvG422hE"
      },
      "cell_type": "markdown",
      "source": [
        "# Baseline Prediction odd/even match result  🔮 ⚽\n",
        "---\n",
        "title: \"**🔮 ⚽ Strategy odd/even Betting**\"\n",
        "\n",
        "author: \"Crislânio Macêdo\"\n",
        "\n",
        "\n",
        "\n",
        "![](https://encrypted-tbn0.gstatic.com/images?q=tbn:ANd9GcSLz2eFcN_5gULdlIYh7VzL09U3OCw37koDRQs9hzVsWkVIsLvxQQ&s)\n",
        "---\n"
      ]
    },
    {
      "metadata": {
        "id": "weIfQqzn22hG"
      },
      "cell_type": "markdown",
      "source": [
        "\n",
        "<html>\n",
        "<body>\n",
        "\n",
        "<p><font size=\"4\" color=\"Gren\">If you find this kernel useful or interesting, please don't forget to upvote the kernel =)\n",
        "\n",
        "</body>\n",
        "</html>\n",
        "\n"
      ]
    },
    {
      "metadata": {
        "id": "uD4xTSq322hH"
      },
      "cell_type": "markdown",
      "source": [
        "# Notes for Football Data\n",
        "\n",
        "All data is in csv format, ready for use within standard spreadsheet applications. Please note that some abbreviations are no longer in use (in particular odds from specific bookmakers no longer used) and refer to data collected in earlier seasons. For a current list of what bookmakers are included in the dataset please visit http://www.football-data.co.uk/matches.php\n",
        "\n",
        "### Key to results data:\n",
        "\n",
        "- Div = League Division\n",
        "- Date = Match Date (dd/mm/yy)\n",
        "- Time = Time of match kick off\n",
        "- HomeTeam = Home Team\n",
        "- AwayTeam = Away Team\n",
        "- FTHG and HG = Full Time Home Team Goals\n",
        "- FTAG and AG = Full Time Away Team Goals\n",
        "- FTR and Res = Full Time Result (H=Home Win, D=Draw, A=Away Win)\n",
        "- HTHG = Half Time Home Team Goals\n",
        "- HTAG = Half Time Away Team Goals\n",
        "- HTR = Half Time Result (H=Home Win, D=Draw, A=Away Win)\n",
        "\n",
        "### Match Statistics (where available)\n",
        "- Attendance = Crowd Attendance\n",
        "- Referee = Match Referee\n",
        "- HS = Home Team Shots\n",
        "- AS = Away Team Shots\n",
        "- HST = Home Team Shots on Target\n",
        "- AST = Away Team Shots on Target\n",
        "- HHW = Home Team Hit Woodwork\n",
        "- AHW = Away Team Hit Woodwork\n",
        "- HC = Home Team Corners\n",
        "- AC = Away Team Corners\n",
        "- HF = Home Team Fouls Committed\n",
        "- AF = Away Team Fouls Committed\n",
        "- HFKC = Home Team Free Kicks Conceded\n",
        "- AFKC = Away Team Free Kicks Conceded\n",
        "- HO = Home Team Offsides\n",
        "- AO = Away Team Offsides\n",
        "- HY = Home Team Yellow Cards\n",
        "- AY = Away Team Yellow Cards\n",
        "- HR = Home Team Red Cards\n",
        "- AR = Away Team Red Cards\n",
        "- HBP = Home Team Bookings Points (10 = yellow, 25 = red)\n",
        "- ABP = Away Team Bookings Points (10 = yellow, 25 = red)\n",
        "\n",
        "Note that Free Kicks Conceeded includes fouls, offsides and any other offense commmitted and will always be equal to or higher than the number of fouls. Fouls make up the vast majority of Free Kicks Conceded. Free Kicks Conceded are shown when specific data on Fouls are not available (France 2nd, Belgium 1st and Greece 1st divisions).\n",
        "\n",
        "Note also that English and Scottish yellow cards do not include the initial yellow card when a second is shown to a player converting it into a red, but this is included as a yellow (plus red) for European games.\n",
        "\n",
        "\n",
        "### Key to 1X2 (match) betting odds data:\n",
        "\n",
        "- B365H = Bet365 home win odds\n",
        "- B365D = Bet365 draw odds\n",
        "- B365A = Bet365 away win odds\n",
        "- BSH = Blue Square home win odds\n",
        "- BSD = Blue Square draw odds\n",
        "- BSA = Blue Square away win odds\n",
        "- BWH = Bet&Win home win odds\n",
        "- BWD = Bet&Win draw odds\n",
        "- BWA = Bet&Win away win odds\n",
        "- GBH = Gamebookers home win odds\n",
        "- GBD = Gamebookers draw odds\n",
        "- GBA = Gamebookers away win odds\n",
        "- IWH = Interwetten home win odds\n",
        "- IWD = Interwetten draw odds\n",
        "- IWA = Interwetten away win odds\n",
        "- LBH = Ladbrokes home win odds\n",
        "- LBD = Ladbrokes draw odds\n",
        "- LBA = Ladbrokes away win odds\n",
        "- PSH and PH = Pinnacle home win odds\n",
        "- PSD and PD = Pinnacle draw odds\n",
        "- PSA and PA = Pinnacle away win odds\n",
        "- SOH = Sporting Odds home win odds\n",
        "- SOD = Sporting Odds draw odds\n",
        "- SOA = Sporting Odds away win odds\n",
        "- SBH = Sportingbet home win odds\n",
        "- SBD = Sportingbet draw odds\n",
        "- SBA = Sportingbet away win odds\n",
        "- SJH = Stan James home win odds\n",
        "- SJD = Stan James draw odds\n",
        "- SJA = Stan James away win odds\n",
        "- SYH = Stanleybet home win odds\n",
        "- SYD = Stanleybet draw odds\n",
        "- SYA = Stanleybet away win odds\n",
        "- VCH = VC Bet home win odds\n",
        "- VCD = VC Bet draw odds\n",
        "- VCA = VC Bet away win odds\n",
        "- WHH = William Hill home win odds\n",
        "- WHD = William Hill draw odds\n",
        "- WHA = William Hill away win odds\n",
        "\n",
        "- Bb1X2 = Number of BetBrain bookmakers used to calculate match odds averages and maximums\n",
        "- BbMxH = Betbrain maximum home win odds\n",
        "- BbAvH = Betbrain average home win odds\n",
        "- BbMxD = Betbrain maximum draw odds\n",
        "- BbAvD = Betbrain average draw win odds\n",
        "- BbMxA = Betbrain maximum away win odds\n",
        "- BbAvA = Betbrain average away win odds\n",
        "\n",
        "- MaxH = Market maximum home win odds\n",
        "- MaxD = Market maximum draw win odds\n",
        "- MaxA = Market maximum away win odds\n",
        "- AvgH = Market average home win odds\n",
        "- AvgD = Market average draw win odds\n",
        "- AvgA = Market average away win odds\n",
        "\n",
        "\n",
        "\n",
        "### Key to total goals betting odds:\n",
        "\n",
        "- BbOU = Number of BetBrain bookmakers used to calculate over/under 2.5 goals (total goals) averages and maximums\n",
        "- BbMx>2.5 = Betbrain maximum over 2.5 goals\n",
        "- BbAv>2.5 = Betbrain average over 2.5 goals\n",
        "- BbMx<2.5 = Betbrain maximum under 2.5 goals\n",
        "- BbAv<2.5 = Betbrain average under 2.5 goals\n",
        "\n",
        "- GB>2.5 = Gamebookers over 2.5 goals\n",
        "- GB<2.5 = Gamebookers under 2.5 goals\n",
        "- B365>2.5 = Bet365 over 2.5 goals\n",
        "- B365<2.5 = Bet365 under 2.5 goals\n",
        "- P>2.5 = Pinnacle over 2.5 goals\n",
        "- P<2.5 = Pinnacle under 2.5 goals\n",
        "- Max>2.5 = Market maximum over 2.5 goals\n",
        "- Max<2.5 = Market maximum under 2.5 goals\n",
        "- Avg>2.5 = Market average over 2.5 goals\n",
        "- Avg<2.5 = Market average under 2.5 goals\n",
        "\n",
        "\n",
        "\n",
        "### Key to Asian handicap betting odds:\n",
        "\n",
        "- BbAH = Number of BetBrain bookmakers used to Asian handicap averages and maximums\n",
        "- BbAHh = Betbrain size of handicap (home team)\n",
        "- AHh = Market size of handicap (home team) (since 2019/2020)\n",
        "- BbMxAHH = Betbrain maximum Asian handicap home team odds\n",
        "- BbAvAHH = Betbrain average Asian handicap home team odds\n",
        "- BbMxAHA = Betbrain maximum Asian handicap away team odds\n",
        "- BbAvAHA = Betbrain average Asian handicap away team odds\n",
        "\n",
        "- GBAHH = Gamebookers Asian handicap home team odds\n",
        "- GBAHA = Gamebookers Asian handicap away team odds\n",
        "- GBAH = Gamebookers size of handicap (home team)\n",
        "- LBAHH = Ladbrokes Asian handicap home team odds\n",
        "- LBAHA = Ladbrokes Asian handicap away team odds\n",
        "- LBAH = Ladbrokes size of handicap (home team)\n",
        "- B365AHH = Bet365 Asian handicap home team odds\n",
        "- B365AHA = Bet365 Asian handicap away team odds\n",
        "- B365AH = Bet365 size of handicap (home team)\n",
        "- PAHH = Pinnacle Asian handicap home team odds\n",
        "- PAHA = Pinnacle Asian handicap away team odds\n",
        "- MaxAHH = Market maximum Asian handicap home team odds\n",
        "- MaxAHA = Market maximum Asian handicap away team odds\n",
        "- AvgAHH = Market average Asian handicap home team odds\n",
        "- AvgAHA = Market average Asian handicap away team odds\n",
        "\n",
        "\n",
        "\n",
        "### Closing odds (last odds before match starts)\n",
        "\n",
        "As above but with an additional \"C\" character following the bookmaker abbreviation/Max/Avg\n",
        "\n",
        "Football-Data would like to acknowledge the following sources which have been utilised in the compilation of Football-Data's results and odds files.\n",
        "\n",
        "\n",
        "Current results (full time, half time)\n",
        "- Xcores - http://www.xcores .com\n",
        "\n",
        "Match statistics\n",
        "- BBC, ESPN Soccer, Bundesliga.de, Gazzetta.it and Football.fr\n",
        "\n",
        "Bookmakers betting odds\n",
        "Individual bookmakers\n",
        "\n",
        "Betting odds for weekend games are collected Friday afternoons, and on Tuesday afternoons for midweek games.\n",
        "\n",
        "Additional match statistics (corners, shots, bookings, referee etc.) for the 2000/01 and 2001/02 seasons for the English, Scottish and German leagues were provided by Sports.com (now under new ownership and no longer available).\n",
        "\n",
        "\n",
        "\n",
        "Source:  http://www.football-data.co.uk/notes.txt"
      ]
    },
    {
      "metadata": {
        "_cell_guid": "30673748-8e49-2a4b-af64-ee661ce8b01d",
        "id": "mr5YSONx22hJ"
      },
      "cell_type": "markdown",
      "source": [
        "## Introduction"
      ]
    },
    {
      "metadata": {
        "id": "uiXYbsn822hJ"
      },
      "cell_type": "markdown",
      "source": [
        "### Imports\n",
        "> We are using a typical data science stack: `numpy`, `pandas`, `sklearn`, `matplotlib`, `sqlite3`."
      ]
    },
    {
      "metadata": {
        "_kg_hide-input": true,
        "trusted": true,
        "id": "utt7ldm222hK"
      },
      "cell_type": "code",
      "source": [
        "# Suppress warnings\n",
        "import warnings\n",
        "from IPython.display import HTML\n",
        "warnings.filterwarnings(\"ignore\", category=DeprecationWarning)\n",
        "warnings.filterwarnings(\"ignore\", category=UserWarning)\n",
        "warnings.filterwarnings(\"ignore\", category=FutureWarning)"
      ],
      "execution_count": 1,
      "outputs": []
    },
    {
      "metadata": {
        "trusted": true,
        "colab": {
          "base_uri": "https://localhost:8080/",
          "height": 608
        },
        "id": "gekjUwdO22hL",
        "outputId": "8e91f274-fdf4-454a-8015-2d4425c7f31d"
      },
      "cell_type": "code",
      "source": [
        "HTML('<iframe width=\"921\" height=\"587\" src=\"https://www.youtube.com/embed/uyN--lvOVm4\" frameborder=\"0\" allow=\"accelerometer; autoplay; encrypted-media; gyroscope; picture-in-picture\" allowfullscreen></iframe>')"
      ],
      "execution_count": 3,
      "outputs": [
        {
          "output_type": "execute_result",
          "data": {
            "text/plain": [
              "<IPython.core.display.HTML object>"
            ],
            "text/html": [
              "<iframe width=\"921\" height=\"587\" src=\"https://www.youtube.com/embed/uyN--lvOVm4\" frameborder=\"0\" allow=\"accelerometer; autoplay; encrypted-media; gyroscope; picture-in-picture\" allowfullscreen></iframe>"
            ]
          },
          "metadata": {},
          "execution_count": 3
        }
      ]
    },
    {
      "metadata": {
        "_kg_hide-input": true,
        "trusted": true,
        "colab": {
          "base_uri": "https://localhost:8080/",
          "height": 421
        },
        "id": "mYHvHqyp22hL",
        "outputId": "82e210c0-16df-49ba-ed3e-760d08a8a65f"
      },
      "cell_type": "code",
      "source": [
        "HTML('<iframe width=\"700\" height=\"400\" src=\"https://www.youtube.com/embed/jwlLPxzW6A4\" frameborder=\"0\" allow=\"accelerometer; autoplay; encrypted-media; gyroscope; picture-in-picture\" allowfullscreen></iframe>')"
      ],
      "execution_count": 4,
      "outputs": [
        {
          "output_type": "execute_result",
          "data": {
            "text/plain": [
              "<IPython.core.display.HTML object>"
            ],
            "text/html": [
              "<iframe width=\"700\" height=\"400\" src=\"https://www.youtube.com/embed/jwlLPxzW6A4\" frameborder=\"0\" allow=\"accelerometer; autoplay; encrypted-media; gyroscope; picture-in-picture\" allowfullscreen></iframe>"
            ]
          },
          "metadata": {},
          "execution_count": 4
        }
      ]
    },
    {
      "metadata": {
        "trusted": true,
        "_kg_hide-input": true,
        "colab": {
          "base_uri": "https://localhost:8080/",
          "height": 159
        },
        "id": "PXr1AfHB22hM",
        "outputId": "7edc7545-24e8-479a-dc9c-cc35189c3ea3"
      },
      "cell_type": "code",
      "source": [
        "import os\n",
        "print(os.listdir(\"../input/\"))"
      ],
      "execution_count": 5,
      "outputs": [
        {
          "output_type": "error",
          "ename": "FileNotFoundError",
          "evalue": "[Errno 2] No such file or directory: '../input/'",
          "traceback": [
            "\u001b[0;31m---------------------------------------------------------------------------\u001b[0m",
            "\u001b[0;31mFileNotFoundError\u001b[0m                         Traceback (most recent call last)",
            "\u001b[0;32m<ipython-input-5-9edb430418e6>\u001b[0m in \u001b[0;36m<cell line: 0>\u001b[0;34m()\u001b[0m\n\u001b[1;32m      1\u001b[0m \u001b[0;32mimport\u001b[0m \u001b[0mos\u001b[0m\u001b[0;34m\u001b[0m\u001b[0;34m\u001b[0m\u001b[0m\n\u001b[0;32m----> 2\u001b[0;31m \u001b[0mprint\u001b[0m\u001b[0;34m(\u001b[0m\u001b[0mos\u001b[0m\u001b[0;34m.\u001b[0m\u001b[0mlistdir\u001b[0m\u001b[0;34m(\u001b[0m\u001b[0;34m\"../input/\"\u001b[0m\u001b[0;34m)\u001b[0m\u001b[0;34m)\u001b[0m\u001b[0;34m\u001b[0m\u001b[0;34m\u001b[0m\u001b[0m\n\u001b[0m",
            "\u001b[0;31mFileNotFoundError\u001b[0m: [Errno 2] No such file or directory: '../input/'"
          ]
        }
      ]
    },
    {
      "metadata": {
        "_cell_guid": "a2f74419-2780-6790-8d40-fe995462434d",
        "id": "B6-9uvOo22hM"
      },
      "cell_type": "markdown",
      "source": [
        "## Data preparation"
      ]
    },
    {
      "metadata": {
        "_cell_guid": "9235d42a-717e-a29f-f038-e6893e18d3fa",
        "id": "j0kvXBr922hN"
      },
      "cell_type": "markdown",
      "source": [
        "Include required libraries:"
      ]
    },
    {
      "metadata": {
        "_cell_guid": "f096b86b-a903-02b8-1cd0-ed13dcc414c8",
        "trusted": true,
        "_kg_hide-input": true,
        "colab": {
          "base_uri": "https://localhost:8080/",
          "height": 321
        },
        "id": "wylppQ9e22hN",
        "outputId": "b41feb92-18c4-4eef-bd5a-0a5140d12287"
      },
      "cell_type": "code",
      "source": [
        "import sqlite3\n",
        "import pandas as pd\n",
        "import numpy as np\n",
        "import seaborn as sns\n",
        "\n",
        "from sklearn.metrics import accuracy_score\n",
        "from sklearn.metrics import confusion_matrix\n",
        "\n",
        "import matplotlib.pyplot as plt\n",
        "%matplotlib inline\n",
        "\n",
        "pd.set_option('max_columns', 150)"
      ],
      "execution_count": 6,
      "outputs": [
        {
          "output_type": "error",
          "ename": "OptionError",
          "evalue": "Pattern matched multiple keys",
          "traceback": [
            "\u001b[0;31m---------------------------------------------------------------------------\u001b[0m",
            "\u001b[0;31mOptionError\u001b[0m                               Traceback (most recent call last)",
            "\u001b[0;32m<ipython-input-6-0d4881367517>\u001b[0m in \u001b[0;36m<cell line: 0>\u001b[0;34m()\u001b[0m\n\u001b[1;32m     10\u001b[0m \u001b[0mget_ipython\u001b[0m\u001b[0;34m(\u001b[0m\u001b[0;34m)\u001b[0m\u001b[0;34m.\u001b[0m\u001b[0mrun_line_magic\u001b[0m\u001b[0;34m(\u001b[0m\u001b[0;34m'matplotlib'\u001b[0m\u001b[0;34m,\u001b[0m \u001b[0;34m'inline'\u001b[0m\u001b[0;34m)\u001b[0m\u001b[0;34m\u001b[0m\u001b[0;34m\u001b[0m\u001b[0m\n\u001b[1;32m     11\u001b[0m \u001b[0;34m\u001b[0m\u001b[0m\n\u001b[0;32m---> 12\u001b[0;31m \u001b[0mpd\u001b[0m\u001b[0;34m.\u001b[0m\u001b[0mset_option\u001b[0m\u001b[0;34m(\u001b[0m\u001b[0;34m'max_columns'\u001b[0m\u001b[0;34m,\u001b[0m \u001b[0;36m150\u001b[0m\u001b[0;34m)\u001b[0m\u001b[0;34m\u001b[0m\u001b[0;34m\u001b[0m\u001b[0m\n\u001b[0m",
            "\u001b[0;32m/usr/local/lib/python3.11/dist-packages/pandas/_config/config.py\u001b[0m in \u001b[0;36m__call__\u001b[0;34m(self, *args, **kwds)\u001b[0m\n\u001b[1;32m    272\u001b[0m \u001b[0;34m\u001b[0m\u001b[0m\n\u001b[1;32m    273\u001b[0m     \u001b[0;32mdef\u001b[0m \u001b[0m__call__\u001b[0m\u001b[0;34m(\u001b[0m\u001b[0mself\u001b[0m\u001b[0;34m,\u001b[0m \u001b[0;34m*\u001b[0m\u001b[0margs\u001b[0m\u001b[0;34m,\u001b[0m \u001b[0;34m**\u001b[0m\u001b[0mkwds\u001b[0m\u001b[0;34m)\u001b[0m \u001b[0;34m->\u001b[0m \u001b[0mT\u001b[0m\u001b[0;34m:\u001b[0m\u001b[0;34m\u001b[0m\u001b[0;34m\u001b[0m\u001b[0m\n\u001b[0;32m--> 274\u001b[0;31m         \u001b[0;32mreturn\u001b[0m \u001b[0mself\u001b[0m\u001b[0;34m.\u001b[0m\u001b[0m__func__\u001b[0m\u001b[0;34m(\u001b[0m\u001b[0;34m*\u001b[0m\u001b[0margs\u001b[0m\u001b[0;34m,\u001b[0m \u001b[0;34m**\u001b[0m\u001b[0mkwds\u001b[0m\u001b[0;34m)\u001b[0m\u001b[0;34m\u001b[0m\u001b[0;34m\u001b[0m\u001b[0m\n\u001b[0m\u001b[1;32m    275\u001b[0m \u001b[0;34m\u001b[0m\u001b[0m\n\u001b[1;32m    276\u001b[0m     \u001b[0;31m# error: Signature of \"__doc__\" incompatible with supertype \"object\"\u001b[0m\u001b[0;34m\u001b[0m\u001b[0;34m\u001b[0m\u001b[0m\n",
            "\u001b[0;32m/usr/local/lib/python3.11/dist-packages/pandas/_config/config.py\u001b[0m in \u001b[0;36m_set_option\u001b[0;34m(*args, **kwargs)\u001b[0m\n\u001b[1;32m    165\u001b[0m \u001b[0;34m\u001b[0m\u001b[0m\n\u001b[1;32m    166\u001b[0m     \u001b[0;32mfor\u001b[0m \u001b[0mk\u001b[0m\u001b[0;34m,\u001b[0m \u001b[0mv\u001b[0m \u001b[0;32min\u001b[0m \u001b[0mzip\u001b[0m\u001b[0;34m(\u001b[0m\u001b[0margs\u001b[0m\u001b[0;34m[\u001b[0m\u001b[0;34m:\u001b[0m\u001b[0;34m:\u001b[0m\u001b[0;36m2\u001b[0m\u001b[0;34m]\u001b[0m\u001b[0;34m,\u001b[0m \u001b[0margs\u001b[0m\u001b[0;34m[\u001b[0m\u001b[0;36m1\u001b[0m\u001b[0;34m:\u001b[0m\u001b[0;34m:\u001b[0m\u001b[0;36m2\u001b[0m\u001b[0;34m]\u001b[0m\u001b[0;34m)\u001b[0m\u001b[0;34m:\u001b[0m\u001b[0;34m\u001b[0m\u001b[0;34m\u001b[0m\u001b[0m\n\u001b[0;32m--> 167\u001b[0;31m         \u001b[0mkey\u001b[0m \u001b[0;34m=\u001b[0m \u001b[0m_get_single_key\u001b[0m\u001b[0;34m(\u001b[0m\u001b[0mk\u001b[0m\u001b[0;34m,\u001b[0m \u001b[0msilent\u001b[0m\u001b[0;34m)\u001b[0m\u001b[0;34m\u001b[0m\u001b[0;34m\u001b[0m\u001b[0m\n\u001b[0m\u001b[1;32m    168\u001b[0m \u001b[0;34m\u001b[0m\u001b[0m\n\u001b[1;32m    169\u001b[0m         \u001b[0mo\u001b[0m \u001b[0;34m=\u001b[0m \u001b[0m_get_registered_option\u001b[0m\u001b[0;34m(\u001b[0m\u001b[0mkey\u001b[0m\u001b[0;34m)\u001b[0m\u001b[0;34m\u001b[0m\u001b[0;34m\u001b[0m\u001b[0m\n",
            "\u001b[0;32m/usr/local/lib/python3.11/dist-packages/pandas/_config/config.py\u001b[0m in \u001b[0;36m_get_single_key\u001b[0;34m(pat, silent)\u001b[0m\n\u001b[1;32m    132\u001b[0m         \u001b[0;32mraise\u001b[0m \u001b[0mOptionError\u001b[0m\u001b[0;34m(\u001b[0m\u001b[0;34mf\"No such keys(s): {repr(pat)}\"\u001b[0m\u001b[0;34m)\u001b[0m\u001b[0;34m\u001b[0m\u001b[0;34m\u001b[0m\u001b[0m\n\u001b[1;32m    133\u001b[0m     \u001b[0;32mif\u001b[0m \u001b[0mlen\u001b[0m\u001b[0;34m(\u001b[0m\u001b[0mkeys\u001b[0m\u001b[0;34m)\u001b[0m \u001b[0;34m>\u001b[0m \u001b[0;36m1\u001b[0m\u001b[0;34m:\u001b[0m\u001b[0;34m\u001b[0m\u001b[0;34m\u001b[0m\u001b[0m\n\u001b[0;32m--> 134\u001b[0;31m         \u001b[0;32mraise\u001b[0m \u001b[0mOptionError\u001b[0m\u001b[0;34m(\u001b[0m\u001b[0;34m\"Pattern matched multiple keys\"\u001b[0m\u001b[0;34m)\u001b[0m\u001b[0;34m\u001b[0m\u001b[0;34m\u001b[0m\u001b[0m\n\u001b[0m\u001b[1;32m    135\u001b[0m     \u001b[0mkey\u001b[0m \u001b[0;34m=\u001b[0m \u001b[0mkeys\u001b[0m\u001b[0;34m[\u001b[0m\u001b[0;36m0\u001b[0m\u001b[0;34m]\u001b[0m\u001b[0;34m\u001b[0m\u001b[0;34m\u001b[0m\u001b[0m\n\u001b[1;32m    136\u001b[0m \u001b[0;34m\u001b[0m\u001b[0m\n",
            "\u001b[0;31mOptionError\u001b[0m: Pattern matched multiple keys"
          ]
        }
      ]
    },
    {
      "metadata": {
        "_cell_guid": "d5fca560-00e6-ea4f-9554-996abdfb6fb9",
        "id": "r0GcDRIR22hN"
      },
      "cell_type": "markdown",
      "source": [
        "Download data:"
      ]
    },
    {
      "metadata": {
        "id": "crd0mpBj22hO"
      },
      "cell_type": "markdown",
      "source": [
        "## Read in Data"
      ]
    },
    {
      "metadata": {
        "id": "nGjA8diG22hO"
      },
      "cell_type": "markdown",
      "source": [
        "## Teams"
      ]
    },
    {
      "metadata": {
        "trusted": true,
        "_kg_hide-input": true,
        "id": "hcgI_Nf922hO"
      },
      "cell_type": "code",
      "source": [
        "path = \"../input/\"  #Insert path here\n",
        "database = path + 'database.sqlite'\n",
        "conn = sqlite3.connect(database)\n",
        "teams_ = pd.read_sql(\"\"\"SELECT *\n",
        "                        FROM Team\n",
        "                        ORDER BY team_long_name\n",
        "                        LIMIT 10;\"\"\", conn)\n",
        "teams_"
      ],
      "execution_count": null,
      "outputs": []
    },
    {
      "metadata": {
        "trusted": true,
        "_kg_hide-input": true,
        "id": "r7uIR68B22hO"
      },
      "cell_type": "code",
      "source": [
        "detailed_matches = pd.read_sql(\"\"\"SELECT Match.id,\n",
        "                                        Country.name AS country_name,\n",
        "                                        League.name AS league_name,\n",
        "                                        season,\n",
        "                                        stage,\n",
        "                                        date,\n",
        "                                        HT.team_long_name AS  home_team,\n",
        "                                        AT.team_long_name AS away_team,\n",
        "                                        home_team_goal,\n",
        "                                        away_team_goal,\n",
        "                                        B365H,\n",
        "                                        B365D,\n",
        "                                        B365A,\n",
        "                                        BSH,\n",
        "                                        BSD,\n",
        "                                        BSA\n",
        "                                FROM Match\n",
        "                                JOIN Country on Country.id = Match.country_id\n",
        "                                JOIN League on League.id = Match.league_id\n",
        "                                LEFT JOIN Team AS HT on HT.team_api_id = Match.home_team_api_id\n",
        "                                LEFT JOIN Team AS AT on AT.team_api_id = Match.away_team_api_id\n",
        "                                ORDER by date;\"\"\", conn)\n",
        "detailed_matches"
      ],
      "execution_count": null,
      "outputs": []
    },
    {
      "metadata": {
        "trusted": true,
        "_kg_hide-input": true,
        "id": "bAn9awr022hP"
      },
      "cell_type": "code",
      "source": [
        "detailed_matches['diff_goals'] = np.sign(detailed_matches.home_team_goal - detailed_matches.away_team_goal)"
      ],
      "execution_count": null,
      "outputs": []
    },
    {
      "metadata": {
        "trusted": true,
        "_kg_hide-input": true,
        "id": "ELhKyT-i22hP"
      },
      "cell_type": "code",
      "source": [
        "detailed_matches['target'] = np.abs(detailed_matches.diff_goals)\n",
        "detailed_matches['diff_goals'] = detailed_matches.home_team_goal - detailed_matches.away_team_goal\n",
        "detailed_matches['target'].value_counts()"
      ],
      "execution_count": null,
      "outputs": []
    },
    {
      "metadata": {
        "trusted": true,
        "id": "bHxuxDdF22hP"
      },
      "cell_type": "code",
      "source": [
        "detailed_matches.to_csv( 'FootballDataEurope.csv', index=False)"
      ],
      "execution_count": null,
      "outputs": []
    },
    {
      "metadata": {
        "trusted": true,
        "_kg_hide-input": true,
        "id": "kKCzMz_T22hQ"
      },
      "cell_type": "code",
      "source": [
        "detailed_matches.head()"
      ],
      "execution_count": null,
      "outputs": []
    },
    {
      "metadata": {
        "id": "bFt0Bdd922hQ"
      },
      "cell_type": "markdown",
      "source": [
        "## Modeling"
      ]
    },
    {
      "metadata": {
        "trusted": true,
        "_kg_hide-input": true,
        "id": "uDeLDHbM22hQ"
      },
      "cell_type": "code",
      "source": [
        "%%time\n",
        "print(detailed_matches.shape)\n",
        "detailed_matches.dropna(subset=['B365H','B365D','B365A','BSH','BSD','BSA'],inplace=True)\n",
        "print(detailed_matches.shape)\n",
        "\n",
        "detailed_matches = detailed_matches[['home_team_goal','away_team_goal','B365H','B365D','B365A','BSH','BSD','BSA',         'diff_goals','target']]\n",
        "X = detailed_matches[['home_team_goal','away_team_goal','B365H','B365D','B365A','BSH','BSD','BSA','diff_goals']]\n",
        "\n",
        "y = detailed_matches['target']\n",
        "\n",
        "X = X.as_matrix()\n",
        "y = y.as_matrix()"
      ],
      "execution_count": null,
      "outputs": []
    },
    {
      "metadata": {
        "id": "uTSn8ZMr22hQ"
      },
      "cell_type": "markdown",
      "source": [
        "### model selection"
      ]
    },
    {
      "metadata": {
        "trusted": true,
        "_kg_hide-input": true,
        "id": "HCnBBrm522hQ"
      },
      "cell_type": "code",
      "source": [
        "from sklearn.model_selection import train_test_split\n",
        "X_train, X_test, y_train, y_test = train_test_split(X, y, test_size=0.2, random_state=42)\n",
        "\n",
        "from sklearn.preprocessing import StandardScaler\n",
        "sc_X = StandardScaler()\n",
        "X_train = sc_X.fit_transform(X_train)\n",
        "X_test = sc_X.transform(X_test)\n",
        "\n"
      ],
      "execution_count": null,
      "outputs": []
    },
    {
      "metadata": {
        "id": "mQ4XvM5r22hQ"
      },
      "cell_type": "markdown",
      "source": [
        "### Logistic Regression"
      ]
    },
    {
      "metadata": {
        "trusted": true,
        "_kg_hide-input": true,
        "id": "gEY_wPK_22hR"
      },
      "cell_type": "code",
      "source": [
        "from sklearn.linear_model import LogisticRegression\n",
        "classifier = LogisticRegression(random_state = 0)\n",
        "classifier.fit(X_train, y_train)"
      ],
      "execution_count": null,
      "outputs": []
    },
    {
      "metadata": {
        "trusted": true,
        "_kg_hide-input": true,
        "id": "2dHXwHfA22hR"
      },
      "cell_type": "code",
      "source": [
        "y_pred = classifier.predict(X_test)\n",
        "y_pred_p = classifier.predict_proba(X_test)\n",
        "\n",
        "final_pred = pd.concat([pd.DataFrame(y_test),pd.DataFrame(y_pred), pd.DataFrame(y_pred_p)], axis=1)\n",
        "final_pred.columns = ['real', 'pred', 'prob_0', 'prob_1']\n",
        "final_pred['hit'] = np.where((final_pred['real']==final_pred['pred']), 1, 0)\n",
        "sum(final_pred.hit)/len(final_pred)"
      ],
      "execution_count": null,
      "outputs": []
    },
    {
      "metadata": {
        "id": "xgA2s4Cy22hR"
      },
      "cell_type": "markdown",
      "source": [
        ">  80% hits matches"
      ]
    },
    {
      "metadata": {
        "id": "YPFM9-eV22hR"
      },
      "cell_type": "markdown",
      "source": [
        "### matches with prob to have odd / even number of goals >70%"
      ]
    },
    {
      "metadata": {
        "trusted": true,
        "_kg_hide-input": true,
        "id": "_aXVXo5v22hR"
      },
      "cell_type": "code",
      "source": [
        "print(final_pred.shape[0], len(final_pred[final_pred['prob_1']>0.70]))\n",
        "final_pred.head()[final_pred['prob_1']>0.70]"
      ],
      "execution_count": null,
      "outputs": []
    },
    {
      "metadata": {
        "id": "B8GJ92kX22hS"
      },
      "cell_type": "markdown",
      "source": [
        "### confusion matrix"
      ]
    },
    {
      "metadata": {
        "trusted": true,
        "_kg_hide-input": true,
        "id": "Gkjub3NJ22hS"
      },
      "cell_type": "code",
      "source": [
        "from sklearn.metrics import confusion_matrix\n",
        "confusion_matrix(y_test, y_pred)"
      ],
      "execution_count": null,
      "outputs": []
    },
    {
      "metadata": {
        "trusted": true,
        "_kg_hide-input": true,
        "id": "ZXTUlMMF22hS"
      },
      "cell_type": "code",
      "source": [
        "from sklearn.model_selection import cross_val_score\n",
        "classifier = LogisticRegression(random_state = 0)\n",
        "print(cross_val_score(classifier, X, y,cv=3))"
      ],
      "execution_count": null,
      "outputs": []
    },
    {
      "metadata": {
        "trusted": true,
        "_kg_hide-input": true,
        "id": "70b6Raiq22hS"
      },
      "cell_type": "code",
      "source": [
        "import gc\n",
        "del X, y, final_pred, y_pred_p ,y_pred, X_train, X_test, y_train, y_test\n",
        "gc.collect()"
      ],
      "execution_count": null,
      "outputs": []
    },
    {
      "metadata": {
        "id": "RpqC5GVs22hS"
      },
      "cell_type": "markdown",
      "source": [
        "# Modeling\n",
        "## New test"
      ]
    },
    {
      "metadata": {
        "trusted": true,
        "_kg_hide-input": true,
        "id": "ogplHfER22hS"
      },
      "cell_type": "code",
      "source": [
        "%%time\n",
        "X_ = detailed_matches[['home_team_goal','away_team_goal','B365H','B365D','B365A','BSH','BSD','BSA',       'diff_goals']]\n",
        "\n",
        "y_ = detailed_matches['target']\n",
        "\n",
        "X_ = X_.as_matrix()\n",
        "y_ = y_.as_matrix()"
      ],
      "execution_count": null,
      "outputs": []
    },
    {
      "metadata": {
        "trusted": true,
        "_kg_hide-input": true,
        "id": "Qx3__xon22hS"
      },
      "cell_type": "code",
      "source": [
        "# initialize list of lists\n",
        "real_data_19 = [{'home_team_goal': 1, 'away_team_goal': 2, 'B365H':5.25, 'B365D':4.33, 'B365A':1.61, 'BSH':2.3, 'BSD':5.5 ,'BSA':1.57},\n",
        "               {'home_team_goal': 1, 'away_team_goal': 1, 'B365H':2.20, 'B365D':3.4, 'B365A':3.3, 'BSH':2.3, 'BSD':3.4 ,'BSA':3.5},\n",
        "               {'home_team_goal': 5, 'away_team_goal': 0, 'B365H':1.80, 'B365D':3.6, 'B365A':4.33, 'BSH':1.78, 'BSD':3.8 ,'BSA':4.0}\n",
        "\n",
        "               ]\n",
        "\n",
        "\n",
        "# Create the pandas DataFrame\n",
        "df = pd.DataFrame(real_data_19)\n",
        "df['diff_goals'] = df.home_team_goal - df.away_team_goal\n",
        "# print dataframe.\n",
        "df"
      ],
      "execution_count": null,
      "outputs": []
    },
    {
      "metadata": {
        "id": "5-12xfxM22hY"
      },
      "cell_type": "markdown",
      "source": [
        "### save model - Logistic Regression"
      ]
    },
    {
      "metadata": {
        "trusted": true,
        "_kg_hide-input": true,
        "id": "VG799XOs22hY"
      },
      "cell_type": "code",
      "source": [
        "import pickle\n",
        "\n",
        "classifier_dp = LogisticRegression(random_state = 0)\n",
        "classifier_dp.fit(X_, y_)\n",
        "pickle.dump(classifier_dp, open('model.pkl','wb'))"
      ],
      "execution_count": null,
      "outputs": []
    },
    {
      "metadata": {
        "trusted": true,
        "_kg_hide-input": true,
        "id": "xBR89vpC22hZ"
      },
      "cell_type": "code",
      "source": [
        "model = pickle.load(open('model.pkl','rb'))\n",
        "print(model.predict(df.values))\n",
        "pickle.dump(classifier_dp, open('model.pkl','wb'))"
      ],
      "execution_count": null,
      "outputs": []
    },
    {
      "metadata": {
        "id": "JGsWeTp022hZ"
      },
      "cell_type": "markdown",
      "source": [
        "# Under construction ..."
      ]
    },
    {
      "metadata": {
        "id": "obX1icqx22hZ"
      },
      "cell_type": "markdown",
      "source": [
        "\n",
        "<html>\n",
        "<body>\n",
        "\n",
        "<p><font size=\"5\" color=\"blue\">If you like my kernel please consider upvoting it</font></p>\n",
        "<p><font size=\"4\" color=\"green\">Don't hesitate to give your suggestions in the comment section</font></p>\n",
        "\n",
        "</body>\n",
        "</html>\n"
      ]
    },
    {
      "metadata": {
        "id": "74VARp4q22hZ"
      },
      "cell_type": "markdown",
      "source": [
        "# Final"
      ]
    }
  ],
  "metadata": {
    "_change_revision": 0,
    "_is_fork": false,
    "kernelspec": {
      "display_name": "Python 3",
      "language": "python",
      "name": "python3"
    },
    "language_info": {
      "codemirror_mode": {
        "name": "ipython",
        "version": 3
      },
      "file_extension": ".py",
      "mimetype": "text/x-python",
      "name": "python",
      "nbconvert_exporter": "python",
      "pygments_lexer": "ipython3",
      "version": "3.5.2"
    },
    "colab": {
      "name": "⚽ ODD & EVEN BETTING STRATEGY",
      "provenance": [],
      "include_colab_link": true
    }
  },
  "nbformat": 4,
  "nbformat_minor": 0
}